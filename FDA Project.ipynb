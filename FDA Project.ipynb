{
 "cells": [
  {
   "cell_type": "markdown",
   "metadata": {},
   "source": [
    "# Fundamentals of Data Analysis\n",
    "\n",
    "***"
   ]
  },
  {
   "cell_type": "markdown",
   "metadata": {},
   "source": [
    "## Project 2020:\n",
    "\n",
    "### Linear Regression Analysis of the powerproduction dataset"
   ]
  },
  {
   "cell_type": "markdown",
   "metadata": {},
   "source": [
    "***"
   ]
  },
  {
   "cell_type": "markdown",
   "metadata": {},
   "source": [
    "This jupyter notebook contains the linear regression analysis performed by Dervla Candon on the powerproduction dataset as part of the assessment of the Fundamentals of Data Analysis module 2020."
   ]
  },
  {
   "cell_type": "code",
   "execution_count": 1,
   "metadata": {},
   "outputs": [],
   "source": [
    "# ensuring all plots will show in the notebook\n",
    "%matplotlib inline"
   ]
  },
  {
   "cell_type": "code",
   "execution_count": 2,
   "metadata": {},
   "outputs": [],
   "source": [
    "# for creating plots\n",
    "import matplotlib.pyplot as plt\n",
    "# for creating numerical arrays\n",
    "import numpy as np\n",
    "# for creating a dataframe with the csv data\n",
    "import pandas as pd\n",
    "plt.rcParams['figure.figsize'] = (9, 7)\n",
    "# for pearsons correlation coefficient\n",
    "import scipy.stats"
   ]
  },
  {
   "cell_type": "code",
   "execution_count": 3,
   "metadata": {},
   "outputs": [],
   "source": [
    "# creating a dataframe with the powerproduction dataset\n",
    "df = pd.read_csv(\"https://raw.githubusercontent.com/ianmcloughlin/2020A-machstat-project/master/dataset/powerproduction.csv\")"
   ]
  },
  {
   "cell_type": "code",
   "execution_count": 4,
   "metadata": {},
   "outputs": [
    {
     "data": {
      "text/html": [
       "<div>\n",
       "<style scoped>\n",
       "    .dataframe tbody tr th:only-of-type {\n",
       "        vertical-align: middle;\n",
       "    }\n",
       "\n",
       "    .dataframe tbody tr th {\n",
       "        vertical-align: top;\n",
       "    }\n",
       "\n",
       "    .dataframe thead th {\n",
       "        text-align: right;\n",
       "    }\n",
       "</style>\n",
       "<table border=\"1\" class=\"dataframe\">\n",
       "  <thead>\n",
       "    <tr style=\"text-align: right;\">\n",
       "      <th></th>\n",
       "      <th>speed</th>\n",
       "      <th>power</th>\n",
       "    </tr>\n",
       "  </thead>\n",
       "  <tbody>\n",
       "    <tr>\n",
       "      <th>count</th>\n",
       "      <td>500.000000</td>\n",
       "      <td>500.000000</td>\n",
       "    </tr>\n",
       "    <tr>\n",
       "      <th>mean</th>\n",
       "      <td>12.590398</td>\n",
       "      <td>48.014584</td>\n",
       "    </tr>\n",
       "    <tr>\n",
       "      <th>std</th>\n",
       "      <td>7.224991</td>\n",
       "      <td>41.614572</td>\n",
       "    </tr>\n",
       "    <tr>\n",
       "      <th>min</th>\n",
       "      <td>0.000000</td>\n",
       "      <td>0.000000</td>\n",
       "    </tr>\n",
       "    <tr>\n",
       "      <th>25%</th>\n",
       "      <td>6.324750</td>\n",
       "      <td>5.288000</td>\n",
       "    </tr>\n",
       "    <tr>\n",
       "      <th>50%</th>\n",
       "      <td>12.550500</td>\n",
       "      <td>41.645500</td>\n",
       "    </tr>\n",
       "    <tr>\n",
       "      <th>75%</th>\n",
       "      <td>18.775250</td>\n",
       "      <td>93.537000</td>\n",
       "    </tr>\n",
       "    <tr>\n",
       "      <th>max</th>\n",
       "      <td>25.000000</td>\n",
       "      <td>113.556000</td>\n",
       "    </tr>\n",
       "  </tbody>\n",
       "</table>\n",
       "</div>"
      ],
      "text/plain": [
       "            speed       power\n",
       "count  500.000000  500.000000\n",
       "mean    12.590398   48.014584\n",
       "std      7.224991   41.614572\n",
       "min      0.000000    0.000000\n",
       "25%      6.324750    5.288000\n",
       "50%     12.550500   41.645500\n",
       "75%     18.775250   93.537000\n",
       "max     25.000000  113.556000"
      ]
     },
     "execution_count": 4,
     "metadata": {},
     "output_type": "execute_result"
    }
   ],
   "source": [
    "# printing a summary of the dataset\n",
    "df.describe()"
   ]
  },
  {
   "cell_type": "markdown",
   "metadata": {},
   "source": [
    "## 1: Initial Assumptions\n",
    "\n",
    "This powerproduction contains two variables; speed and power.\n",
    "\n",
    "A given row within the dataset describes the quantity of power produced by a wind turbine for the corresponding speed measured for the wind.\n",
    "\n",
    "Speed values range from 0 to 25 (no indication of units, however given the range I will assume the units are m/s) and the power produced ranges from 0 to 113.556. It is not possible to make a reasonable assumption of the energy units without knowing the time frame used to measure the power produced.\n",
    "\n",
    "I will assume that the timeframe over which each power production has been measured remained constant throughout the experiment."
   ]
  },
  {
   "cell_type": "markdown",
   "metadata": {},
   "source": [
    "## 2: Simple Linear Regression on Unmodified Dataset\n",
    "\n",
    "To begin my analysis, I will perform simple linear regression using the np.polyfit function [1], and plot this against the points from the dataset to allow for a visual comparison. "
   ]
  },
  {
   "cell_type": "code",
   "execution_count": 5,
   "metadata": {},
   "outputs": [
    {
     "data": {
      "image/png": "[encoded data removed]",
      "text/plain": [
       "<Figure size 648x504 with 1 Axes>"
      ]
     },
     "metadata": {
      "needs_background": "light"
     },
     "output_type": "display_data"
    }
   ],
   "source": [
    "# np.polyfit produces two outputs, the first is the slope of the line and the second is the constant\n",
    "m,c = np.polyfit(df['speed'],df['power'], 1)\n",
    "\n",
    "# plot the individual data points to compare to the line of best fit\n",
    "plt.plot(df['speed'],df['power'],'k.',label=\"Original Data Points\")\n",
    "# draw the line of best fit for the range of speed values included in the dataset\n",
    "plt.plot(df['speed'],df['speed']*m + c, 'r-',label = \"Best Fit Line\")\n",
    "\n",
    "# add appropriate x and y axis labels\n",
    "plt.xlabel('Speed')\n",
    "plt.ylabel('Power')\n",
    "plt.legend()\n",
    "\n",
    "# display the plot\n",
    "plt.show()"
   ]
  },
  {
   "cell_type": "markdown",
   "metadata": {},
   "source": [
    "From inspection of the above plot, it is clear that the above equation does not provide a very accurate representation of the dataset.\n",
    "\n",
    "Initial observations are as follows:\n",
    "\n",
    " - the plotted datapoints do not appear to have a strong linear relationship, so it is unclear if a linear regression would best describe this relationship;\n",
    " \n",
    " - for a speed of 0m/s the plot predicts a negative value for speed, which is not a possible or useful prediction in a real-world scenario\n",
    " \n",
    " - while there appear to be some isolated data points which return a zero power value for speeds between 10m/s and 24m/s, there also appears to be a cluster of values grouped around the 25m/s speed with zero power production."
   ]
  },
  {
   "cell_type": "code",
   "execution_count": 6,
   "metadata": {},
   "outputs": [
    {
     "name": "stdout",
     "output_type": "stream",
     "text": [
      "The cost of the best fit line with no adjustments is 234241.1641532122\n"
     ]
    }
   ],
   "source": [
    "# this lambda cost function has been obtained from the linear regression lecture [2]\n",
    "cost = lambda m,c: np.sum([(df['power'][i] - m * df['speed'][i] - c)**2 for i in range(df['speed'].size)])\n",
    "print(f\"The cost of the best fit line with no adjustments is {cost(m,c)}\")"
   ]
  },
  {
   "cell_type": "markdown",
   "metadata": {},
   "source": [
    "The above calculation of the cost of the best fit line - based on the content covered in topic 9 of the lectures [2] - reaffirms my initial impression that this best fit line is not an accurate representation of the dataset.\n",
    "\n",
    "In the remainder of this jupyter notebook, I will investigate if there exists a better linear equation to represent this dataset (better implying a lower cost), or if in fact there exists a non-linear relationship which better describes the relationship betwqeen wind speeds and wind turbine power production."
   ]
  },
  {
   "cell_type": "markdown",
   "metadata": {},
   "source": [
    "## 3: Outlier, Yes or No?\n",
    "\n",
    "As briefly touched on previously, I have identified two potential groups of outliers in the dataset.\n",
    "\n",
    "For the first group, there are 4 isolated points for which a wind speed value between 10m/s and 24m/s returns a zero power value. For each of these speed values, the graph identifies numerous data points with equal or near-equal speeds that have a non-zero power production. The combination of these two factors leads me to conclude that these factors are indeed outliers, which do not provide accurate representations of the speed/power relationship I am investigating.\n",
    "\n",
    "The second group contains numerous datapoints which, while the are not closely grouped with the majority of the data points from the data set, are closely clustered to one another. If there are a number of experiments which produced the same output value, can they all be considered outliers? An additional cause for concern is that for these speed values, grouped closely around 25m/s, there are no other data points recorded which are grouped closely to the datapoints for lower speed values.\n",
    "\n",
    "Given these values in question fall at the upper bound of the dataset, I have investigated the limitations of wind turbines. As it happens, wind turbines are designed to cease operating once wind speeds reach a certain speed, applying brakes on the propellers to ensure that they are not damaged by excessive wind speeds. For most large wind turbines, the speed at which the turbines stop power production is 55mph [3], which corresponds to approximately 24.6 m/s.\n",
    "\n",
    "As such, this second group of data points are not outliers, but representations of the real-world operation of a wind turbine.\n",
    "\n",
    "If a full spectrum of non-zero x values are being considered as the domain of the function, then the function should be split into 2 variations; \n",
    "\n",
    " - 0 for all x >= 24.6m/s\n",
    " \n",
    " - TBD for x < 24.6m/s\n",
    " \n",
    "Once I have confirmed this value of 24.6m/s as an accurate cut off point based on the dataset, I will remove all values for higher speeds for my remaining analysis."
   ]
  },
  {
   "cell_type": "code",
   "execution_count": 7,
   "metadata": {
    "scrolled": true
   },
   "outputs": [
    {
     "data": {
      "text/plain": [
       "0       0.000\n",
       "1       0.125\n",
       "2       0.150\n",
       "3       0.225\n",
       "4       0.275\n",
       "15      0.726\n",
       "16      0.751\n",
       "24      1.026\n",
       "26      1.076\n",
       "31      1.301\n",
       "35      1.552\n",
       "37      1.677\n",
       "39      1.827\n",
       "42      2.027\n",
       "43      2.077\n",
       "44      2.102\n",
       "47      2.252\n",
       "60      3.128\n",
       "65      3.504\n",
       "67      3.579\n",
       "70      3.679\n",
       "73      3.779\n",
       "74      3.804\n",
       "75      3.879\n",
       "83      4.429\n",
       "89      4.880\n",
       "105     5.556\n",
       "110     5.781\n",
       "111     5.806\n",
       "114     5.931\n",
       "133     6.782\n",
       "135     6.857\n",
       "136     6.957\n",
       "140     7.107\n",
       "149     7.432\n",
       "208    10.511\n",
       "340    17.167\n",
       "404    20.095\n",
       "456    22.998\n",
       "490    24.499\n",
       "491    24.525\n",
       "492    24.575\n",
       "493    24.650\n",
       "494    24.750\n",
       "495    24.775\n",
       "496    24.850\n",
       "497    24.875\n",
       "498    24.950\n",
       "499    25.000\n",
       "Name: speed, dtype: float64"
      ]
     },
     "execution_count": 7,
     "metadata": {},
     "output_type": "execute_result"
    }
   ],
   "source": [
    "# show all values with a zero power output\n",
    "df.loc[df['power'] == 0,'speed']"
   ]
  },
  {
   "cell_type": "markdown",
   "metadata": {},
   "source": [
    "As seen in the above results, rows 0 to 456 inclusive with a zero power production correspond to either the first group of outliers I have identified (rows 208, 340, 404, and 456) or points which have a lower wind speed value and do not appear as outliers on the plot.\n",
    "\n",
    "Going by the speed values for the remaining zero power production values, 24.499 appears to be the most appropriate cut off point for the domain of the regression equation. As seen by the consecutive row numbers from 490-500 appearing above, there are no non-zero values falling above a speed of 24.499m/s\n",
    "\n",
    "As a result, I will remove the rows which contain zero power values for all rows after and including row 208, which will remove both the outlier data points and those which do not correspond to a moving wind turbine."
   ]
  },
  {
   "cell_type": "code",
   "execution_count": 8,
   "metadata": {
    "scrolled": false
   },
   "outputs": [
    {
     "data": {
      "text/html": [
       "<div>\n",
       "<style scoped>\n",
       "    .dataframe tbody tr th:only-of-type {\n",
       "        vertical-align: middle;\n",
       "    }\n",
       "\n",
       "    .dataframe tbody tr th {\n",
       "        vertical-align: top;\n",
       "    }\n",
       "\n",
       "    .dataframe thead th {\n",
       "        text-align: right;\n",
       "    }\n",
       "</style>\n",
       "<table border=\"1\" class=\"dataframe\">\n",
       "  <thead>\n",
       "    <tr style=\"text-align: right;\">\n",
       "      <th></th>\n",
       "      <th>index</th>\n",
       "      <th>speed</th>\n",
       "      <th>power</th>\n",
       "    </tr>\n",
       "  </thead>\n",
       "  <tbody>\n",
       "    <tr>\n",
       "      <th>0</th>\n",
       "      <td>0</td>\n",
       "      <td>0.000</td>\n",
       "      <td>0.000</td>\n",
       "    </tr>\n",
       "    <tr>\n",
       "      <th>1</th>\n",
       "      <td>1</td>\n",
       "      <td>0.125</td>\n",
       "      <td>0.000</td>\n",
       "    </tr>\n",
       "    <tr>\n",
       "      <th>2</th>\n",
       "      <td>2</td>\n",
       "      <td>0.150</td>\n",
       "      <td>0.000</td>\n",
       "    </tr>\n",
       "    <tr>\n",
       "      <th>3</th>\n",
       "      <td>3</td>\n",
       "      <td>0.225</td>\n",
       "      <td>0.000</td>\n",
       "    </tr>\n",
       "    <tr>\n",
       "      <th>4</th>\n",
       "      <td>4</td>\n",
       "      <td>0.275</td>\n",
       "      <td>0.000</td>\n",
       "    </tr>\n",
       "    <tr>\n",
       "      <th>...</th>\n",
       "      <td>...</td>\n",
       "      <td>...</td>\n",
       "      <td>...</td>\n",
       "    </tr>\n",
       "    <tr>\n",
       "      <th>481</th>\n",
       "      <td>485</td>\n",
       "      <td>24.249</td>\n",
       "      <td>103.700</td>\n",
       "    </tr>\n",
       "    <tr>\n",
       "      <th>482</th>\n",
       "      <td>486</td>\n",
       "      <td>24.299</td>\n",
       "      <td>93.694</td>\n",
       "    </tr>\n",
       "    <tr>\n",
       "      <th>483</th>\n",
       "      <td>487</td>\n",
       "      <td>24.349</td>\n",
       "      <td>93.078</td>\n",
       "    </tr>\n",
       "    <tr>\n",
       "      <th>484</th>\n",
       "      <td>488</td>\n",
       "      <td>24.374</td>\n",
       "      <td>98.223</td>\n",
       "    </tr>\n",
       "    <tr>\n",
       "      <th>485</th>\n",
       "      <td>489</td>\n",
       "      <td>24.399</td>\n",
       "      <td>95.117</td>\n",
       "    </tr>\n",
       "  </tbody>\n",
       "</table>\n",
       "<p>486 rows × 3 columns</p>\n",
       "</div>"
      ],
      "text/plain": [
       "     index   speed    power\n",
       "0        0   0.000    0.000\n",
       "1        1   0.125    0.000\n",
       "2        2   0.150    0.000\n",
       "3        3   0.225    0.000\n",
       "4        4   0.275    0.000\n",
       "..     ...     ...      ...\n",
       "481    485  24.249  103.700\n",
       "482    486  24.299   93.694\n",
       "483    487  24.349   93.078\n",
       "484    488  24.374   98.223\n",
       "485    489  24.399   95.117\n",
       "\n",
       "[486 rows x 3 columns]"
      ]
     },
     "execution_count": 8,
     "metadata": {},
     "output_type": "execute_result"
    }
   ],
   "source": [
    "# create a new dataframe in variable data for the remaining analysis\n",
    "data = df.drop([208,340,404,456,490,491,492,493,494,495,496,497,498,499], axis=0)\n",
    "data.reset_index(inplace=True)\n",
    "# print data to screen\n",
    "data"
   ]
  },
  {
   "cell_type": "code",
   "execution_count": 9,
   "metadata": {},
   "outputs": [
    {
     "data": {
      "image/png": "[encoded data removed]",
      "text/plain": [
       "<Figure size 648x504 with 1 Axes>"
      ]
     },
     "metadata": {
      "needs_background": "light"
     },
     "output_type": "display_data"
    }
   ],
   "source": [
    "# repeat the linear polyfit for the new dataset\n",
    "m2,c2 = np.polyfit(data['speed'],data['power'], 1)\n",
    "\n",
    "plt.plot(data['speed'],data['power'],'c.',label=\"Original Data Points\")\n",
    "plt.plot(data['speed'],data['speed']*m2 + c2, 'r-',label = \"Best Fit Line\")\n",
    "\n",
    "plt.xlabel('Speed')\n",
    "plt.ylabel('Power')\n",
    "plt.legend()\n",
    "\n",
    "plt.show()"
   ]
  },
  {
   "cell_type": "code",
   "execution_count": 10,
   "metadata": {},
   "outputs": [
    {
     "name": "stdout",
     "output_type": "stream",
     "text": [
      "The cost of the best fit line with outliers removed and adjusted domain is 80977.02805039407\n"
     ]
    }
   ],
   "source": [
    "cost2 = lambda m,c: np.sum([(data['power'][i] - m * data['speed'][i] - c)**2 for i in range(data['speed'].size)])\n",
    "print(f\"The cost of the best fit line with outliers removed and adjusted domain is {cost2(m2,c2)}\")\n",
    "#data"
   ]
  },
  {
   "cell_type": "code",
   "execution_count": 11,
   "metadata": {},
   "outputs": [
    {
     "name": "stdout",
     "output_type": "stream",
     "text": [
      "This adjusted linear regression has a cost of 34.57% of the unadjusted linear regression\n"
     ]
    }
   ],
   "source": [
    "print(f\"This adjusted linear regression has a cost of {round((cost2(m2,c2)/cost(m,c))*100,2)}% of the unadjusted linear regression\")"
   ]
  },
  {
   "cell_type": "markdown",
   "metadata": {},
   "source": [
    "By removing the outliers of the data set the cost of the linear best fit line is almost reduced to 1/3 of the cost of the initial best fit line.\n",
    "\n",
    "***"
   ]
  },
  {
   "cell_type": "markdown",
   "metadata": {},
   "source": [
    "## 4: Linear or Non-Linear?\n",
    "\n",
    "The np.polyfit takes in three parameters; x-values, y-values, and degree of the function. For both best fit lines thus far, a degree of 1 has been used, which corresponds to a linear relationship, or a straight line. \n",
    "\n",
    "However, when you look at the data points plotted from the dataset, they appear to have a curved trend rather than a linear. Thus I will investigate, using the adjusted dataset, the appearance and cost of a quadratic and cubic equation to describe the relationship between the variables.\n",
    "\n",
    "***"
   ]
  },
  {
   "cell_type": "markdown",
   "metadata": {},
   "source": [
    "In addition to the appearance of the data points, the Pearson Correlation Coefficient (PCC) is also a good indicator of the linear correlation between the variables [4]. This value ranges between -1 and 1, -1 corresponding to a perefectly negative linear relationship, 1 corresponding to a perfectly positive linear relationsip. If the value lies closer to 0, this implies that either their is no correlation between the datapoints, or this relationship is not linear.\n",
    "\n",
    "<br>\n"
   ]
  },
  {
   "cell_type": "code",
   "execution_count": 12,
   "metadata": {},
   "outputs": [
    {
     "name": "stdout",
     "output_type": "stream",
     "text": [
      "The Pearson Correlation Coefficient for this dataset is 0.9500256632037263, and the p-value is 7.379108925462722e-247\n"
     ]
    }
   ],
   "source": [
    "# from the scipy documentation [6]\n",
    "r,p = scipy.stats.pearsonr(data['speed'],data['power'])\n",
    "print(f\"The Pearson Correlation Coefficient for this dataset is {r}, and the p-value is {p}\")"
   ]
  },
  {
   "cell_type": "markdown",
   "metadata": {},
   "source": [
    "<br>\n",
    "\n",
    "This PCC is very close to 1, with a p value that is extremely close to 0. \n",
    "\n",
    "Both of these results provide a strong basis to conclude that the relaionship between the speed and power is a linear one.\n",
    "\n",
    "However, given the appearance of the placement of the datapoints, I will investigate the non-linear regression results to see if the cost of the regression equation can be improved.\n",
    "\n",
    "***"
   ]
  },
  {
   "cell_type": "code",
   "execution_count": 13,
   "metadata": {},
   "outputs": [
    {
     "data": {
      "image/png": "[encoded data removed]",
      "text/plain": [
       "<Figure size 648x504 with 1 Axes>"
      ]
     },
     "metadata": {
      "needs_background": "light"
     },
     "output_type": "display_data"
    }
   ],
   "source": [
    "# a quadratic polyfit will return 3 variables\n",
    "a3, b3, c3 = np.polyfit(data['speed'],data['power'], 2)\n",
    "\n",
    "\n",
    "plt.plot(data['speed'],data['power'],'c.',label=\"Original Data Points\")\n",
    "plt.plot(data['speed'],a3 * (data['speed']**2) + b3 * data['speed'] + c3, 'r-',label = \"Best Fit Quadratic Line\")\n",
    "\n",
    "plt.xlabel('Speed')\n",
    "plt.ylabel('Power')\n",
    "plt.legend()\n",
    "\n",
    "plt.show()"
   ]
  },
  {
   "cell_type": "code",
   "execution_count": 14,
   "metadata": {},
   "outputs": [
    {
     "name": "stdout",
     "output_type": "stream",
     "text": [
      "The cost of the best fit quadratic line is 79243.70337587869\n"
     ]
    }
   ],
   "source": [
    "# new cost function defined for quadratic lines\n",
    "quadratic_cost = lambda a,b,c: np.sum([(data['power'][i] - a * (data['speed'][i]**2) - b * data['speed'][i] - c)**2 for i in range(data['speed'].size)])\n",
    "print(f\"The cost of the best fit quadratic line is {quadratic_cost(a3,b3,c3)}\")"
   ]
  },
  {
   "cell_type": "code",
   "execution_count": 15,
   "metadata": {},
   "outputs": [
    {
     "data": {
      "image/png": "[encoded data removed]",
      "text/plain": [
       "<Figure size 648x504 with 1 Axes>"
      ]
     },
     "metadata": {
      "needs_background": "light"
     },
     "output_type": "display_data"
    }
   ],
   "source": [
    "# a cubic equation outputs 4 variables\n",
    "a4, b4, c4, d4 = np.polyfit(data['speed'],data['power'], 3)\n",
    "\n",
    "\n",
    "plt.plot(data['speed'],data['power'],'b.',label=\"Original Data Points\")\n",
    "plt.plot(data['speed'],a4 * (data['speed']**3) + b4 * (data['speed']**2) + c4 * data['speed'] + d4, 'g-',label = \"Best Fit Cubic Line\")\n",
    "\n",
    "plt.xlabel('Speed')\n",
    "plt.ylabel('Power')\n",
    "plt.legend()\n",
    "\n",
    "plt.show()"
   ]
  },
  {
   "cell_type": "code",
   "execution_count": 16,
   "metadata": {},
   "outputs": [
    {
     "name": "stdout",
     "output_type": "stream",
     "text": [
      "The cost of the best fit cubic line is 17556.81440073272\n"
     ]
    }
   ],
   "source": [
    "# new cost function defined for cubic lines\n",
    "cubic_cost = lambda a,b,c,d: np.sum([(data['power'][i] - a * (data['speed'][i]**3) - b * (data['speed'][i]**2) - c * data['speed'][i] - d)**2 for i in range(data['speed'].size)])\n",
    "print(f\"The cost of the best fit cubic line is {cubic_cost(a4,b4,c4,d4)}\")"
   ]
  },
  {
   "cell_type": "code",
   "execution_count": 17,
   "metadata": {},
   "outputs": [
    {
     "data": {
      "text/plain": [
       "[-0.0395, 1.4938, -9.6741, 13.9596]"
      ]
     },
     "execution_count": 17,
     "metadata": {},
     "output_type": "execute_result"
    }
   ],
   "source": [
    "[round(a4,4),round(b4,4),round(c4,4),round(d4,4)]"
   ]
  },
  {
   "cell_type": "markdown",
   "metadata": {},
   "source": [
    "## 5: Expected Relationship\n",
    "\n",
    "As shown by the results of each cost function calculated, the cubic line has the lowest cost, and as such is the bestr representation of the relationship between wind speed and power.\n",
    "\n",
    "In general, The relationship between wind speed *V* and power produced *P* can be described as follows [3]:\n",
    "\n",
    "$$\\ P = C_p k V^3 $$\n",
    "\n",
    "Where k represents a constant number in this experiment, which depends on air density and rotor size, and $\\ C_p $ is the power coefficient [5]. This equation describes a cubic relationship between *P* and *V*, which supports the analysis thus far that a cubic regression is more appropriate than a linear or quadratic one."
   ]
  },
  {
   "cell_type": "markdown",
   "metadata": {},
   "source": [
    "## 6: Conclusion\n",
    "\n",
    "There is data to support both a linear and non-linear regression equation being used to describe this dataset, when one considers both the Pearson Correlation Coefficient and the cost of the function. \n",
    "\n",
    "As there is no definitive priority in terms of which of these statistical estimates is more reliable, I cannot place more emphasis on one or the other. However, given the known relationship between power and wind speed for wind turbines, I would conclude the cubic equation is the most appropriate equation to describe the relationship between wind speed and power produced.\n",
    "\n",
    "As such, the best regression is as follows:\n",
    "\n",
    "$$\\ Y = -0.0395x^3 + 1.4938x^2 -9.6741x + 13.9596 $$\n",
    "\n",
    "***"
   ]
  },
  {
   "cell_type": "markdown",
   "metadata": {},
   "source": [
    "##### References\n",
    "\n",
    "[1] numpy.polyfit; NumPy; https://numpy.org/doc/stable/reference/generated/numpy.polyfit.html\n",
    "\n",
    "[2] Linear Regression; Ian McLoughlin; https://github.com/ianmcloughlin/jupyter-teaching-notebooks/blob/master/simple-linear-regression.ipynb\n",
    "\n",
    "[3] How to calculate power output of wind; windpowerengineering; https://www.windpowerengineering.com/calculate-wind-power-output/\n",
    "\n",
    "[4] Pearson Correlation Coefficient; Wikipedia; https://en.wikipedia.org/wiki/Pearson_correlation_coefficient\n",
    "\n",
    "[5] Wind Power Coefficient; David E. Watson; https://www.ftexploring.com/wind-energy/wind-power-coefficient.htm\n",
    "\n",
    "[6] scipy.stats/pearsonr; scipy; https://docs.scipy.org/doc/scipy/reference/generated/scipy.stats.pearsonr.html"
   ]
  },
  {
   "cell_type": "markdown",
   "metadata": {},
   "source": [
    "<br>\n",
    "\n",
    "***\n",
    "\n",
    "# End\n",
    "\n",
    "***"
   ]
  }
 ],
 "metadata": {
  "kernelspec": {
   "display_name": "Python 3",
   "language": "python",
   "name": "python3"
  },
  "language_info": {
   "codemirror_mode": {
    "name": "ipython",
    "version": 3
   },
   "file_extension": ".py",
   "mimetype": "text/x-python",
   "name": "python",
   "nbconvert_exporter": "python",
   "pygments_lexer": "ipython3",
   "version": "3.8.5"
  }
 },
 "nbformat": 4,
 "nbformat_minor": 4
}
